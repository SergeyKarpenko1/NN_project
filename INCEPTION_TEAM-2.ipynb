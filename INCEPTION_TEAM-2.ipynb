{
  "cells": [
    {
      "cell_type": "code",
      "execution_count": null,
      "metadata": {
        "colab": {
          "base_uri": "https://localhost:8080/"
        },
        "id": "e78gz3IZ-P2A",
        "outputId": "dc576785-5acb-42c8-cfa8-94400d8ec737"
      },
      "outputs": [
        {
          "name": "stdout",
          "output_type": "stream",
          "text": [
            "Collecting torchutils\n",
            "  Downloading torchutils-0.0.4-py3-none-any.whl (20 kB)\n",
            "Requirement already satisfied: torch>=1.0.0 in /usr/local/lib/python3.10/dist-packages (from torchutils) (2.0.1+cu118)\n",
            "Requirement already satisfied: numpy>=1.16.2 in /usr/local/lib/python3.10/dist-packages (from torchutils) (1.22.4)\n",
            "Requirement already satisfied: matplotlib>=3.0.3 in /usr/local/lib/python3.10/dist-packages (from torchutils) (3.7.1)\n",
            "Requirement already satisfied: contourpy>=1.0.1 in /usr/local/lib/python3.10/dist-packages (from matplotlib>=3.0.3->torchutils) (1.1.0)\n",
            "Requirement already satisfied: cycler>=0.10 in /usr/local/lib/python3.10/dist-packages (from matplotlib>=3.0.3->torchutils) (0.11.0)\n",
            "Requirement already satisfied: fonttools>=4.22.0 in /usr/local/lib/python3.10/dist-packages (from matplotlib>=3.0.3->torchutils) (4.40.0)\n",
            "Requirement already satisfied: kiwisolver>=1.0.1 in /usr/local/lib/python3.10/dist-packages (from matplotlib>=3.0.3->torchutils) (1.4.4)\n",
            "Requirement already satisfied: packaging>=20.0 in /usr/local/lib/python3.10/dist-packages (from matplotlib>=3.0.3->torchutils) (23.1)\n",
            "Requirement already satisfied: pillow>=6.2.0 in /usr/local/lib/python3.10/dist-packages (from matplotlib>=3.0.3->torchutils) (8.4.0)\n",
            "Requirement already satisfied: pyparsing>=2.3.1 in /usr/local/lib/python3.10/dist-packages (from matplotlib>=3.0.3->torchutils) (3.1.0)\n",
            "Requirement already satisfied: python-dateutil>=2.7 in /usr/local/lib/python3.10/dist-packages (from matplotlib>=3.0.3->torchutils) (2.8.2)\n",
            "Requirement already satisfied: filelock in /usr/local/lib/python3.10/dist-packages (from torch>=1.0.0->torchutils) (3.12.2)\n",
            "Requirement already satisfied: typing-extensions in /usr/local/lib/python3.10/dist-packages (from torch>=1.0.0->torchutils) (4.6.3)\n",
            "Requirement already satisfied: sympy in /usr/local/lib/python3.10/dist-packages (from torch>=1.0.0->torchutils) (1.11.1)\n",
            "Requirement already satisfied: networkx in /usr/local/lib/python3.10/dist-packages (from torch>=1.0.0->torchutils) (3.1)\n",
            "Requirement already satisfied: jinja2 in /usr/local/lib/python3.10/dist-packages (from torch>=1.0.0->torchutils) (3.1.2)\n",
            "Requirement already satisfied: triton==2.0.0 in /usr/local/lib/python3.10/dist-packages (from torch>=1.0.0->torchutils) (2.0.0)\n",
            "Requirement already satisfied: cmake in /usr/local/lib/python3.10/dist-packages (from triton==2.0.0->torch>=1.0.0->torchutils) (3.25.2)\n",
            "Requirement already satisfied: lit in /usr/local/lib/python3.10/dist-packages (from triton==2.0.0->torch>=1.0.0->torchutils) (16.0.6)\n",
            "Requirement already satisfied: six>=1.5 in /usr/local/lib/python3.10/dist-packages (from python-dateutil>=2.7->matplotlib>=3.0.3->torchutils) (1.16.0)\n",
            "Requirement already satisfied: MarkupSafe>=2.0 in /usr/local/lib/python3.10/dist-packages (from jinja2->torch>=1.0.0->torchutils) (2.1.3)\n",
            "Requirement already satisfied: mpmath>=0.19 in /usr/local/lib/python3.10/dist-packages (from sympy->torch>=1.0.0->torchutils) (1.3.0)\n",
            "Installing collected packages: torchutils\n",
            "Successfully installed torchutils-0.0.4\n"
          ]
        }
      ],
      "source": [
        "!pip install torchutils"
      ]
    },
    {
      "cell_type": "code",
      "execution_count": null,
      "metadata": {
        "id": "fVCssSzSK8Vm"
      },
      "outputs": [],
      "source": [
        "import torch\n",
        "import torchvision\n",
        "import torch.nn as nn\n",
        "from torch.utils.data import DataLoader\n",
        "from torchvision import datasets\n",
        "from torchvision import transforms as T\n",
        "from torchvision import io\n",
        "from torchsummary import summary\n",
        "import torchutils as tu\n",
        "\n",
        "import numpy as np\n",
        "import matplotlib.pyplot as plt"
      ]
    },
    {
      "cell_type": "code",
      "execution_count": null,
      "metadata": {
        "id": "gY5pIH-1OD9e"
      },
      "outputs": [],
      "source": [
        "import ssl\n",
        "import urllib.request\n",
        "\n",
        "# Отключение проверки SSL-сертификата\n",
        "ssl._create_default_https_context = ssl._create_unverified_context\n",
        "\n",
        "# response = urllib.request.urlopen(url)\n"
      ]
    },
    {
      "cell_type": "code",
      "execution_count": null,
      "metadata": {
        "colab": {
          "base_uri": "https://localhost:8080/"
        },
        "id": "ngWqVJtULCHH",
        "outputId": "ba0d21cb-b8b7-4f40-c59b-8499d0632521"
      },
      "outputs": [
        {
          "name": "stdout",
          "output_type": "stream",
          "text": [
            "cuda\n"
          ]
        }
      ],
      "source": [
        "# Присваивает значение 'cuda' переменной 'device', если функция torch.cuda.is_available() возвращает True,\n",
        "# в противном случае присваивает значение 'cpu' переменной 'device'.\n",
        "device = 'cuda' if torch.cuda.is_available() else 'cpu'\n",
        "\n",
        "# Выводит значение переменной 'device'.\n",
        "print(device)\n"
      ]
    },
    {
      "cell_type": "markdown",
      "metadata": {},
      "source": [
        "В этом коде мы проверяем, доступен ли CUDA (Compute Unified Device Architecture) на системе с помощью функции `torch.cuda.is_available()`. Если CUDA доступен, переменной `device` присваивается строковое значение `'cuda'`, что указывает на использование GPU для вычислений. Если CUDA недоступен, переменной `device` присваивается строковое значение `'cpu'`, что указывает на использование CPU для вычислений.\n"
      ]
    },
    {
      "cell_type": "markdown",
      "metadata": {
        "id": "eoP0Y3oX93rr"
      },
      "source": [
        "### resnet50"
      ]
    },
    {
      "cell_type": "code",
      "execution_count": null,
      "metadata": {
        "colab": {
          "base_uri": "https://localhost:8080/"
        },
        "id": "gPN2Y1IKdn_c",
        "outputId": "64812a5d-1398-42bf-8573-34e57587f955"
      },
      "outputs": [
        {
          "name": "stdout",
          "output_type": "stream",
          "text": [
            "Requirement already satisfied: kaggle in /usr/local/lib/python3.10/dist-packages (1.5.13)\n",
            "Requirement already satisfied: six>=1.10 in /usr/local/lib/python3.10/dist-packages (from kaggle) (1.16.0)\n",
            "Requirement already satisfied: certifi in /usr/local/lib/python3.10/dist-packages (from kaggle) (2023.5.7)\n",
            "Requirement already satisfied: python-dateutil in /usr/local/lib/python3.10/dist-packages (from kaggle) (2.8.2)\n",
            "Requirement already satisfied: requests in /usr/local/lib/python3.10/dist-packages (from kaggle) (2.27.1)\n",
            "Requirement already satisfied: tqdm in /usr/local/lib/python3.10/dist-packages (from kaggle) (4.65.0)\n",
            "Requirement already satisfied: python-slugify in /usr/local/lib/python3.10/dist-packages (from kaggle) (8.0.1)\n",
            "Requirement already satisfied: urllib3 in /usr/local/lib/python3.10/dist-packages (from kaggle) (1.26.16)\n",
            "Requirement already satisfied: text-unidecode>=1.3 in /usr/local/lib/python3.10/dist-packages (from python-slugify->kaggle) (1.3)\n",
            "Requirement already satisfied: charset-normalizer~=2.0.0 in /usr/local/lib/python3.10/dist-packages (from requests->kaggle) (2.0.12)\n",
            "Requirement already satisfied: idna<4,>=2.5 in /usr/local/lib/python3.10/dist-packages (from requests->kaggle) (3.4)\n"
          ]
        }
      ],
      "source": [
        "!pip install kaggle\n"
      ]
    },
    {
      "cell_type": "markdown",
      "metadata": {},
      "source": [
        "Чтобы загрузить файлы в Google Colab из Kaggle, выполните следующие шаги:\n",
        "\n",
        "Шаг 1: Установка и импорт необходимых пакетов Установите пакет kaggle с помощью следующей команды:\n",
        "!pip install kaggle\n",
        "\n",
        "Импортируйте пакет kaggle:\n",
        "import kaggle\n",
        "\n",
        "Шаг 2: Получение аутентификационного токена API Kaggle\n",
        "\n",
        "Зайдите на Kaggle (https://www.kaggle.com/) и войдите в свою учетную запись или зарегистрируйтесь, если у вас еще нет аккаунта.\n",
        "Перейдите в свой профиль, нажав на свое имя в правом верхнем углу страницы.\n",
        "Прокрутите вниз до раздела API и нажмите кнопку \"Create New API Token\". Файл kaggle.json будет загружен на ваш компьютер.\n",
        "\n",
        "Шаг 3: Загрузка файла kaggle.json в Google Colab\n",
        "\n",
        "Зайдите в Google Colab (https://colab.research.google.com/) и создайте новую записную книжку или откройте существующую.\n",
        "Зайдите в секцию \"Files\" в боковой панели слева.\n",
        "\n",
        "Нажмите на кнопку \"Upload\" и выберите файл kaggle.json, который вы загрузили с Kaggle. Файл будет загружен в рабочую среду Colab.\n",
        "\n",
        "Шаг 4: Перемещение файла kaggle.json в правильную директорию\n",
        "\n",
        "Откройте ячейку кода в Colab и выполните следующую команду, чтобы переместить файл kaggle.json в директорию ~/.kaggle/:\n",
        "\n",
        "!mkdir -p ~/.kaggle\n",
        "!cp kaggle.json ~/.kaggle/\n",
        "\n",
        "Дайте разрешение на выполнение команды с помощью команды:\n",
        "\n",
        "!chmod 600 ~/.kaggle/kaggle.json\n",
        "\n",
        "Шаг 5: Загрузка данных из Kaggle в Google Colab\n",
        "\n",
        "Найдите набор данных на Kaggle, который вы хотите загрузить.\n",
        "Скопируйте API-команду загрузки, которую можно найти на странице набора данных на Kaggle.\n",
        "Вставьте скопированную команду загрузки в ячейку кода в Colab и запустите ее. Например:\n",
        "\n",
        "!kaggle datasets download -d username/dataset-name\n",
        "\n",
        "где username - ваше имя пользователя Kaggle, а dataset-name - название набора данных.\n",
        "\n",
        "Файлы набора данных будут загружены в текущую рабочую директорию в Colab.\n",
        "Теперь вы можете использовать загруженные файлы в своем коде на Google Colab.\n",
        "Обратите внимание, что вы должны заменить username и dataset-name на фактические значения, соответствующие набору данных, который вы хотите загрузить.\n",
        "Надеюсь, эти пошаговые инструкции помогут вам загрузить данные из Kaggle в Google Colab."
      ]
    },
    {
      "cell_type": "code",
      "execution_count": null,
      "metadata": {
        "id": "LV74aUsweU7u"
      },
      "outputs": [],
      "source": [
        "!mkdir -p ~/.kaggle\n",
        "!cp kaggle.json ~/.kaggle/\n"
      ]
    },
    {
      "cell_type": "code",
      "execution_count": null,
      "metadata": {
        "id": "hms6hnNUecfC"
      },
      "outputs": [],
      "source": [
        "!chmod 600 ~/.kaggle/kaggle.json\n"
      ]
    },
    {
      "cell_type": "code",
      "execution_count": null,
      "metadata": {
        "colab": {
          "base_uri": "https://localhost:8080/"
        },
        "id": "5It7YmWKem3H",
        "outputId": "8e66f343-fd54-4145-c490-c8d4303eca68"
      },
      "outputs": [
        {
          "name": "stdout",
          "output_type": "stream",
          "text": [
            "Downloading skin-cancer-malignant-vs-benign.zip to /content\n",
            "100% 324M/325M [00:18<00:00, 20.2MB/s]\n",
            "100% 325M/325M [00:18<00:00, 18.1MB/s]\n"
          ]
        }
      ],
      "source": [
        "!kaggle datasets download -d fanconic/skin-cancer-malignant-vs-benign\n"
      ]
    },
    {
      "cell_type": "code",
      "execution_count": null,
      "metadata": {
        "colab": {
          "base_uri": "https://localhost:8080/"
        },
        "id": "iOOHCbhBf9Ud",
        "outputId": "aa36f2b6-4c2f-446b-dede-9cb8a709dab9"
      },
      "outputs": [
        {
          "name": "stdout",
          "output_type": "stream",
          "text": [
            "Archive:  /content/skin-cancer-malignant-vs-benign.zip\n",
            "replace data/test/benign/1.jpg? [y]es, [n]o, [A]ll, [N]one, [r]ename: N\n"
          ]
        }
      ],
      "source": [
        "!unzip /content/skin-cancer-malignant-vs-benign.zip;"
      ]
    },
    {
      "cell_type": "code",
      "execution_count": null,
      "metadata": {
        "id": "yzzk9I0GdtIB"
      },
      "outputs": [],
      "source": [
        "import kaggle\n"
      ]
    },
    {
      "cell_type": "code",
      "execution_count": null,
      "metadata": {
        "id": "lLMzhjCu93rr"
      },
      "outputs": [],
      "source": [
        "# импортируем модель и ее веса\n",
        "# Импортируем модули resnet50 и ResNet50_Weights из пакета torchvision.models\n",
        "from torchvision.models import resnet50, ResNet50_Weights\n",
        "\n",
        "# Создаем модель resnet50 с использованием параметров по умолчанию\n",
        "model = resnet50(weights=ResNet50_Weights.DEFAULT)\n",
        "\n",
        "# Выводим модель\n",
        "model;\n"
      ]
    },
    {
      "cell_type": "code",
      "execution_count": null,
      "metadata": {
        "colab": {
          "base_uri": "https://localhost:8080/"
        },
        "id": "7O4bMu5893rs",
        "outputId": "037d9602-0861-4cf7-871e-fe9d3592f85a"
      },
      "outputs": [
        {
          "data": {
            "text/plain": [
              "Linear(in_features=2048, out_features=1, bias=True)"
            ]
          },
          "execution_count": 164,
          "metadata": {},
          "output_type": "execute_result"
        }
      ],
      "source": [
        "# Меняем выходной слой\n",
        "# Присваиваем атрибуту fc модели объект класса Linear с размерностями (2048, 1)\n",
        "model.fc = nn.Linear(1000, 1)\n",
        "\n",
        "model.fc"
      ]
    },
    {
      "cell_type": "markdown",
      "metadata": {},
      "source": [
        "Устанавливая `nn.Linear(2048, 1)`, мы создаем линейное преобразование, которое будет принимать входные данные размерности 2048 и выдавать одно значение. Таким образом, мы изменяем последний слой модели на линейный слой с одним выходным узлом. Это может быть полезно, например, при решении задачи бинарной классификации.\n",
        "\n",
        "Использование линейного слоя с одним выходом намекает на то, что модель теперь будет предсказывать вероятность отнесения входных данных к одному из двух классов (0 или 1)."
      ]
    },
    {
      "cell_type": "code",
      "execution_count": null,
      "metadata": {
        "id": "S3lcyMLt93ru"
      },
      "outputs": [],
      "source": [
        "#Аугментация\n",
        "\n",
        "# Создаем объект trnsform_train с помощью Compose, который объединяет несколько преобразований\n",
        "# Преобразования включают изменение размера изображения до (224, 224),\n",
        "# случайное горизонтальное отражение с вероятностью 0.5,\n",
        "# случайное вращение на угол до 10 градусов\n",
        "# и преобразование изображения в тензор\n",
        "trnsform_train = T.Compose([\n",
        "    T.Resize((224, 224)),\n",
        "    T.RandomHorizontalFlip(p=0.5),\n",
        "    T.RandomRotation(degrees=10),\n",
        "    T.ToTensor()\n",
        "])\n",
        "\n",
        "# Создаем объект trnsform_valid с помощью Compose, который объединяет несколько преобразований\n",
        "# Преобразования включают изменение размера изображения до (224, 224)\n",
        "# и преобразование изображения в тензор\n",
        "trnsform_valid = T.Compose([\n",
        "    T.Resize((224, 224)),\n",
        "    T.ToTensor()\n",
        "])\n"
      ]
    },
    {
      "cell_type": "markdown",
      "metadata": {},
      "source": [
        "\n",
        "В этом коде мы создаем объекты `trnsform_train` и `trnsform_valid`, которые используются для преобразования данных перед их использованием в модели.\n",
        "\n",
        "- Для объекта `trnsform_train` мы создаем последовательность преобразований с помощью функции `Compose`. Эта последовательность включает следующие операции:\n",
        "  - `Resize((224, 224))`: Изменяет размер изображения до (224, 224) пикселей.\n",
        "  - `RandomHorizontalFlip(p=0.5)`: Случайное горизонтальное отражение изображения с вероятностью 0.5. Это помогает аугментировать данные и разнообразить тренировочный набор.\n",
        "  - `RandomRotation(degrees=10)`: Случайное вращение изображения на угол до 10 градусов. Это также служит для аугментации данных.\n",
        "  - `ToTensor()`: Преобразует изображение в тензор, который может быть использован моделью.\n",
        "\n",
        "- Для объекта `trnsform_valid` мы также создаем последовательность преобразований с помощью функции `Compose`. В этом случае, мы используем только два преобразования:\n",
        "  - `Resize((224, 224))`: Изменяет размер изображения до (224, 224) пикселей.\n",
        "  - `ToTensor()`: Преобразует изображение в тензор.\n",
        "\n",
        "Объекты `trnsform_train` и `trnsform_valid` могут быть использованы при обработке тренировочных и проверочных данных соответственно, чтобы привести их к нужному формату перед подачей на вход модели."
      ]
    },
    {
      "cell_type": "code",
      "execution_count": null,
      "metadata": {
        "id": "XpyTwwWa93ru"
      },
      "outputs": [],
      "source": [
        "# Создаем объект train_dataset с помощью класса ImageFolder из модуля datasets\n",
        "# Передаем путь к папке с тренировочными изображениями '/content/train'\n",
        "# и применяем преобразования, определенные в объекте trnsform_train\n",
        "train_dataset = datasets.ImageFolder('/content/train', transform=trnsform_train)\n",
        "\n",
        "# то же самое только для валидационных данных\n",
        "valid_dataset = datasets.ImageFolder('/content/test', transform=trnsform_valid)\n"
      ]
    },
    {
      "cell_type": "markdown",
      "metadata": {},
      "source": [
        "\n",
        "В этом коде мы создаем объекты `train_dataset` и `valid_dataset`, которые представляют собой наборы данных для тренировки и проверки модели.\n",
        "\n",
        "- Для объекта `train_dataset` мы используем класс `ImageFolder` из модуля `datasets`. Этот класс предназначен для работы с наборами данных, где каждый класс представлен отдельной папкой соответствующего имени. Мы передаем путь к папке с тренировочными изображениями '/content/train' и указываем, что нужно применить преобразования, определенные в объекте `trnsform_train`.\n",
        "\n",
        "Объекты `train_dataset` и `valid_dataset` представляют собой наборы данных, которые могут быть использованы для обучения и проверки модели соответственно."
      ]
    },
    {
      "cell_type": "code",
      "execution_count": null,
      "metadata": {
        "id": "sx0_RWOF93ru"
      },
      "outputs": [],
      "source": [
        "# Создаем объект train_loader с помощью класса DataLoader из модуля data\n",
        "# Передаем объект train_dataset в качестве набора данных для загрузки\n",
        "# Указываем размер пакета (batch_size) равным 32\n",
        "# Аргумент shuffle=True указывает на необходимость перемешивания данных перед каждой эпохой обучения\n",
        "train_loader = DataLoader(train_dataset, batch_size=32, shuffle=True)\n",
        "\n",
        "# то же самое только для валидационных данных\n",
        "valid_loader = DataLoader(valid_dataset, batch_size=32, shuffle=True)\n"
      ]
    },
    {
      "cell_type": "markdown",
      "metadata": {},
      "source": [
        "В этом коде мы создаем объекты `train_loader` и `valid_loader`, которые представляют собой загрузчики данных для тренировочного и проверочного наборов.\n",
        "\n",
        "- Для объекта `train_loader` мы используем класс `DataLoader` из модуля `torch.utils.data`. Этот класс предназначен для загрузки данных в модель. Мы передаем объект `train_dataset` в качестве набора данных для загрузки, указываем размер пакета (batch_size), который равен 32, и указываем, что данные должны быть перемешаны перед каждой эпохой обучения (shuffle=True).\n"
      ]
    },
    {
      "cell_type": "code",
      "execution_count": null,
      "metadata": {
        "id": "5aw_QMdb93rv"
      },
      "outputs": [],
      "source": [
        "# Замораживаем все, чтобы разморозить только нужное\n",
        "# Итерируемся по всем параметрам модели с помощью цикла for\n",
        "for p in model.parameters():\n",
        "    # Устанавливаем флаг requires_grad в False для каждого параметра p\n",
        "    # Флаг requires_grad указывает, нужно ли вычислять градиенты для данного параметра во время обратного распространения ошибки\n",
        "    p.requires_grad = False\n"
      ]
    },
    {
      "cell_type": "markdown",
      "metadata": {},
      "source": [
        "В этом коде мы проходим через все параметры модели (`model`) и устанавливаем флаг `requires_grad` в `False` для каждого параметра. Флаг `requires_grad` определяет, нужно ли вычислять градиенты для данного параметра во время обратного распространения ошибки.\n",
        "\n",
        "Установка `requires_grad` в `False` означает, что эти параметры не будут обновляться во время обучения модели. Это может быть полезно, когда нам не нужно изменять или обучать определенные параметры, например, если мы замораживаем предобученные слои модели и хотим сохранить их значения."
      ]
    },
    {
      "cell_type": "code",
      "execution_count": null,
      "metadata": {
        "colab": {
          "base_uri": "https://localhost:8080/",
          "height": 340
        },
        "id": "ZAHbWyFl93rw",
        "outputId": "4db30c5f-cfb4-4016-b2b7-d3e0792a0745"
      },
      "outputs": [
        {
          "ename": "AttributeError",
          "evalue": "ignored",
          "output_type": "error",
          "traceback": [
            "\u001b[0;31m---------------------------------------------------------------------------\u001b[0m",
            "\u001b[0;31mAttributeError\u001b[0m                            Traceback (most recent call last)",
            "\u001b[0;32m<ipython-input-162-f492c56e9e1f>\u001b[0m in \u001b[0;36m<cell line: 1>\u001b[0;34m()\u001b[0m\n\u001b[0;32m----> 1\u001b[0;31m \u001b[0mmodel\u001b[0m\u001b[0;34m.\u001b[0m\u001b[0mclassifier\u001b[0m\u001b[0;34m[\u001b[0m\u001b[0;36m3\u001b[0m\u001b[0;34m]\u001b[0m\u001b[0;34m.\u001b[0m\u001b[0mweight\u001b[0m\u001b[0;34m.\u001b[0m\u001b[0mrequires_grad\u001b[0m \u001b[0;34m=\u001b[0m \u001b[0;32mTrue\u001b[0m\u001b[0;34m\u001b[0m\u001b[0;34m\u001b[0m\u001b[0m\n\u001b[0m\u001b[1;32m      2\u001b[0m \u001b[0mmodel\u001b[0m\u001b[0;34m.\u001b[0m\u001b[0mclassifier\u001b[0m\u001b[0;34m[\u001b[0m\u001b[0;36m3\u001b[0m\u001b[0;34m]\u001b[0m\u001b[0;34m.\u001b[0m\u001b[0mbias\u001b[0m\u001b[0;34m.\u001b[0m\u001b[0mrequires_grad\u001b[0m \u001b[0;34m=\u001b[0m \u001b[0;32mTrue\u001b[0m\u001b[0;34m\u001b[0m\u001b[0;34m\u001b[0m\u001b[0m\n\u001b[1;32m      3\u001b[0m \u001b[0;34m\u001b[0m\u001b[0m\n\u001b[1;32m      4\u001b[0m \u001b[0mmodel\u001b[0m\u001b[0;34m.\u001b[0m\u001b[0mto\u001b[0m\u001b[0;34m(\u001b[0m\u001b[0mdevice\u001b[0m\u001b[0;34m)\u001b[0m\u001b[0;34m;\u001b[0m\u001b[0;34m\u001b[0m\u001b[0;34m\u001b[0m\u001b[0m\n",
            "\u001b[0;32m/usr/local/lib/python3.10/dist-packages/torch/nn/modules/module.py\u001b[0m in \u001b[0;36m__getattr__\u001b[0;34m(self, name)\u001b[0m\n\u001b[1;32m   1612\u001b[0m             \u001b[0;32mif\u001b[0m \u001b[0mname\u001b[0m \u001b[0;32min\u001b[0m \u001b[0mmodules\u001b[0m\u001b[0;34m:\u001b[0m\u001b[0;34m\u001b[0m\u001b[0;34m\u001b[0m\u001b[0m\n\u001b[1;32m   1613\u001b[0m                 \u001b[0;32mreturn\u001b[0m \u001b[0mmodules\u001b[0m\u001b[0;34m[\u001b[0m\u001b[0mname\u001b[0m\u001b[0;34m]\u001b[0m\u001b[0;34m\u001b[0m\u001b[0;34m\u001b[0m\u001b[0m\n\u001b[0;32m-> 1614\u001b[0;31m         raise AttributeError(\"'{}' object has no attribute '{}'\".format(\n\u001b[0m\u001b[1;32m   1615\u001b[0m             type(self).__name__, name))\n\u001b[1;32m   1616\u001b[0m \u001b[0;34m\u001b[0m\u001b[0m\n",
            "\u001b[0;31mAttributeError\u001b[0m: 'ResNet' object has no attribute 'classifier'"
          ]
        }
      ],
      "source": [
        "# Устанавливаем флаг requires_grad в True для весов и смещения на третьем слое классификатора модели\n",
        "model.classifier[3].weight.requires_grad = True\n",
        "model.classifier[3].bias.requires_grad = True\n",
        "\n",
        "# Перемещаем модель на устройство (device)\n",
        "model.to(device)\n"
      ]
    },
    {
      "cell_type": "markdown",
      "metadata": {},
      "source": [
        "Установка `requires_grad` в `True` означает, что эти параметры будут обновляться во время обучения модели. Это может быть полезно, если мы хотим, чтобы определенные слои или параметры были подвержены обучению и адаптировались к данным."
      ]
    },
    {
      "cell_type": "code",
      "execution_count": null,
      "metadata": {
        "id": "K6lQQIMa93rw"
      },
      "outputs": [],
      "source": [
        "# Создаем оптимизатор Adam для обновления параметров модели\n",
        "optimizer = torch.optim.Adam(model.parameters(), lr=0.005)\n",
        "\n",
        "# Используем функцию потерь BCEWithLogitsLoss для оценки ошибки\n",
        "criterion = torch.nn.BCEWithLogitsLoss()\n"
      ]
    },
    {
      "cell_type": "markdown",
      "metadata": {},
      "source": [
        "В этом коде мы создаем оптимизатор `Adam` для обновления параметров модели. Оптимизаторы используются для настройки весов модели в процессе обучения. В данном случае, мы передаем `model.parameters()` в качестве аргумента функции `Adam`, чтобы указать оптимизатору, какие именно параметры модели нужно обновлять. Мы также задаем значение learning rate (`lr`) равное 0.005, которое контролирует скорость обучения модели.\n",
        "\n",
        "Затем мы создаем функцию потерь `BCEWithLogitsLoss()`. Эта функция используется для оценки ошибки между прогнозами модели и истинными значениями целевой переменной. В данном случае, функция потерь `BCEWithLogitsLoss()` предназначена для задач бинарной классификации."
      ]
    },
    {
      "cell_type": "code",
      "execution_count": null,
      "metadata": {
        "id": "npRuHpxV93rw"
      },
      "outputs": [],
      "source": [
        "def compute_batch_accuracy(preds, labels):\n",
        "    preds_reshaped = preds.squeeze(-1)\n",
        "    # print(preds_reshaped)\n",
        "    preds_sigmoid  = preds_reshaped.sigmoid()\n",
        "    # print(preds_sigmoid)\n",
        "    preds_classes  = torch.round(preds_sigmoid)\n",
        "    # print(preds_classes)\n",
        "    bool_array     = preds_classes == labels\n",
        "    # print(bool_array)\n",
        "    number_of_true = bool_array.sum()\n",
        "    # print(number_of_true)\n",
        "    accuracy       = number_of_true / len(labels)\n",
        "    # print(accuracy)\n",
        "    accuracy_float = accuracy.item()\n",
        "\n",
        "    return accuracy_float"
      ]
    },
    {
      "cell_type": "code",
      "execution_count": null,
      "metadata": {
        "colab": {
          "base_uri": "https://localhost:8080/",
          "height": 848
        },
        "id": "Cd-Uulv193rx",
        "outputId": "0a9e0b74-341a-4f99-823c-de42614da029"
      },
      "outputs": [
        {
          "name": "stdout",
          "output_type": "stream",
          "text": [
            "Epoch train: 01, accuracy: 0.741, loss: 0.534\n",
            "Epoch valid: 01, accuracy: 0.757, loss: 0.669\n",
            "Epoch train: 02, accuracy: 0.776, loss: 0.476\n",
            "Epoch valid: 02, accuracy: 0.574, loss: 9.441\n",
            "Epoch train: 03, accuracy: 0.778, loss: 0.448\n",
            "Epoch valid: 03, accuracy: 0.605, loss: 0.643\n",
            "Epoch train: 04, accuracy: 0.778, loss: 0.436\n",
            "Epoch valid: 04, accuracy: 0.748, loss: 0.485\n",
            "Epoch train: 05, accuracy: 0.792, loss: 0.417\n",
            "Epoch valid: 05, accuracy: 0.798, loss: 0.392\n",
            "Epoch train: 06, accuracy: 0.785, loss: 0.424\n",
            "Epoch valid: 06, accuracy: 0.732, loss: 0.615\n",
            "Epoch train: 07, accuracy: 0.806, loss: 0.395\n",
            "Epoch valid: 07, accuracy: 0.601, loss: 4.172\n"
          ]
        },
        {
          "data": {
            "image/png": "[encoded data removed]",
            "text/plain": [
              "<Figure size 1400x600 with 2 Axes>"
            ]
          },
          "metadata": {},
          "output_type": "display_data"
        }
      ],
      "source": [
        "# обучаем модель\n",
        "model.to(device)\n",
        "train_epoch_acc = []\n",
        "train_epoch_losses = []\n",
        "valid_epoch_losses = []\n",
        "valid_epoch_acc = []\n",
        "\n",
        "model.to(device)\n",
        "for epoch in range(7):\n",
        "    model.train()\n",
        "    loss_batch = []\n",
        "    acc_batch  = []\n",
        "\n",
        "    for images, labels in train_loader:\n",
        "        images = images.to(device)\n",
        "        labels = labels.to(device)\n",
        "\n",
        "        preds = model(images)\n",
        "\n",
        "        loss = criterion(preds.squeeze(-1), labels.float())\n",
        "\n",
        "        loss_batch.append(loss.item())\n",
        "        acc_batch.append(compute_batch_accuracy(preds, labels))\n",
        "\n",
        "        optimizer.zero_grad()\n",
        "        loss.backward()\n",
        "        optimizer.step()\n",
        "\n",
        "    train_epoch_losses.append(np.mean(loss_batch))\n",
        "    train_epoch_acc.append(np.mean(acc_batch))\n",
        "\n",
        "    model.eval()\n",
        "    loss_batch = []\n",
        "    acc_batch  = []\n",
        "    for images, labels in valid_loader:\n",
        "        images = images.to(device)\n",
        "        labels = labels.to(device)\n",
        "\n",
        "        preds = model(images)\n",
        "        loss = criterion(preds.squeeze(-1), labels.float())\n",
        "\n",
        "        loss_batch.append(loss.item())\n",
        "        acc_batch.append(compute_batch_accuracy(preds, labels))\n",
        "\n",
        "    valid_epoch_losses.append(np.mean(loss_batch))\n",
        "    valid_epoch_acc.append(np.mean(acc_batch))\n",
        "\n",
        "    print(f'Epoch train: {epoch+1:02}, accuracy: {train_epoch_acc[-1]:.3f}, loss: {train_epoch_losses[-1]:.3f}')\n",
        "    print(f'Epoch valid: {epoch+1:02}, accuracy: {valid_epoch_acc[-1]:.3f}, loss: {valid_epoch_losses[-1]:.3f}')\n",
        "\n",
        "# Отображение графиков\n",
        "fig, ax = plt.subplots(1, 2, figsize=(14, 6))\n",
        "# plt.subplots_adjust(hspace=0.5)\n",
        "\n",
        "\n",
        "# Первый график - функция потерь (loss)\n",
        "ax[0].plot(valid_epoch_losses)\n",
        "ax[0].set_ylim((0, np.max(train_epoch_losses.extend(valid_epoch_losses))))\n",
        "ax[0].set_title('Valid loss history')\n",
        "ax[0].text(0.5, -0.2, f'Epochs: {len(valid_epoch_losses)}', transform=ax[0].transAxes, ha='center')\n",
        "\n",
        "# Второй график - точность (accuracy)\n",
        "ax[1].plot(train_epoch_acc)\n",
        "ax[1].plot(valid_epoch_acc)\n",
        "ax[1].set_ylim(0, 1.1)\n",
        "ax[1].set_title('Acc history')\n",
        "ax[1].text(0.5, -0.2, f'Epochs: {len(train_epoch_acc)}', transform=ax[1].transAxes, ha='center')\n",
        "\n",
        "plt.tight_layout()\n",
        "plt.show()\n"
      ]
    },
    {
      "cell_type": "code",
      "execution_count": null,
      "metadata": {
        "id": "FyNwHnmbjftz"
      },
      "outputs": [],
      "source": [
        "torch.save(model.state_dict(), \"resnet18_weights.pth\")\n",
        "\n",
        "model = model\n",
        "\n",
        "torch.save(model.state_dict(), 'model.pth')"
      ]
    }
  ],
  "metadata": {
    "accelerator": "GPU",
    "colab": {
      "gpuType": "T4",
      "provenance": []
    },
    "kernelspec": {
      "display_name": "Python 3",
      "name": "python3"
    },
    "language_info": {
      "codemirror_mode": {
        "name": "ipython",
        "version": 3
      },
      "file_extension": ".py",
      "mimetype": "text/x-python",
      "name": "python",
      "nbconvert_exporter": "python",
      "pygments_lexer": "ipython3",
      "version": "3.10.11"
    }
  },
  "nbformat": 4,
  "nbformat_minor": 0
}
